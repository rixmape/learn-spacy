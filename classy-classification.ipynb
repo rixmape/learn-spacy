{
 "cells": [
  {
   "cell_type": "markdown",
   "metadata": {},
   "source": [
    "# Classy Classification\n",
    "\n",
    "Link to [Github Repository](https://github.com/davidberenstein1957/classy-classification)."
   ]
  },
  {
   "cell_type": "code",
   "execution_count": null,
   "metadata": {},
   "outputs": [],
   "source": [
    "import pandas as pd\n",
    "import spacy\n",
    "from sklearn.model_selection import train_test_split\n",
    "from sklearn.utils import shuffle"
   ]
  },
  {
   "cell_type": "code",
   "execution_count": null,
   "metadata": {},
   "outputs": [],
   "source": [
    "data = {\n",
    "    \"furniture\": [\n",
    "        \"This text is about chairs.\",\n",
    "        \"Couches, benches and televisions.\",\n",
    "        \"I really need to get a new sofa.\",\n",
    "    ],\n",
    "    \"kitchen\": [\n",
    "        \"There also exist things like fridges.\",\n",
    "        \"I hope to be getting a new stove today.\",\n",
    "        \"Do you also have some ovens.\",\n",
    "    ],\n",
    "}\n",
    "\n",
    "nlp = spacy.blank(\"en\")\n",
    "nlp.add_pipe(\n",
    "    \"classy_classification\",\n",
    "    config={\n",
    "        \"data\": data,\n",
    "        \"model\": \"sentence-transformers/paraphrase-multilingual-MiniLM-L12-v2\",\n",
    "        \"device\": \"gpu\",\n",
    "    },\n",
    ")\n",
    "\n",
    "print(nlp(\"I am looking for kitchen appliances.\")._.cats)"
   ]
  },
  {
   "cell_type": "code",
   "execution_count": null,
   "metadata": {},
   "outputs": [],
   "source": [
    "df = pd.read_csv(\"data/imdb-reviews.csv\")\n",
    "df.head()"
   ]
  },
  {
   "cell_type": "code",
   "execution_count": null,
   "metadata": {},
   "outputs": [],
   "source": [
    "# Preprocess the data\n",
    "df[\"review\"] = df[\"review\"].str.replace(\"<br />\", \" \")\n",
    "\n",
    "# Shuffle the data\n",
    "df = shuffle(df)\n",
    "\n",
    "# Split the data into training and testing sets\n",
    "train_df, test_df = train_test_split(df, test_size=0.2)\n",
    "\n",
    "# Create batches of the data for training\n",
    "train_data = {\n",
    "    \"positive\": df[df[\"sentiment\"] == \"positive\"][\"review\"].tolist(),\n",
    "    \"negative\": df[df[\"sentiment\"] == \"negative\"][\"review\"].tolist(),\n",
    "}\n",
    "\n",
    "# Initialize the NLP model with the classy-classification pipeline\n",
    "nlp = spacy.blank(\"en\")\n",
    "nlp.add_pipe(\n",
    "    \"classy_classification\",\n",
    "    config={\n",
    "        \"data\": train_data,\n",
    "        \"model\": \"sentence-transformers/paraphrase-multilingual-MiniLM-L12-v2\",\n",
    "        \"device\": \"gpu\",\n",
    "    },\n",
    ")"
   ]
  },
  {
   "cell_type": "code",
   "execution_count": null,
   "metadata": {},
   "outputs": [],
   "source": [
    "# Train the model on the training data\n",
    "for epoch in range(10):  # Number of epochs\n",
    "    losses = {}\n",
    "    for batch in spacy.util.minibatch(train_data, size=8):  # Batch size\n",
    "        texts = [item[\"review\"] for item in batch]\n",
    "        cats = [{\"POSITIVE\": bool(item[\"sentiment\"])} for item in batch]\n",
    "        nlp.update(texts, cats, losses=losses)\n",
    "    print(f\"Losses at epoch {epoch}: {losses}\")\n",
    "\n",
    "# Evaluate the model on the testing data\n",
    "correct_predictions = 0\n",
    "for doc in test_data:\n",
    "    text = doc[\"review\"]\n",
    "    true_sentiment = doc[\"sentiment\"]\n",
    "    prediction = nlp(text)._.cats[\"POSITIVE\"]\n",
    "    if (prediction >= 0.5 and true_sentiment == 1) or (\n",
    "        prediction < 0.5 and true_sentiment == 0\n",
    "    ):\n",
    "        correct_predictions += 1\n",
    "accuracy = correct_predictions / len(test_data)\n",
    "print(f\"Accuracy: {accuracy}\")\n",
    "\n",
    "# Use the trained model to predict the sentiment of new reviews\n",
    "new_review = \"This movie was really great. I enjoyed it a lot.\"\n",
    "print(nlp(new_review)._.cats)"
   ]
  }
 ],
 "metadata": {
  "kernelspec": {
   "display_name": "Python 3",
   "language": "python",
   "name": "python3"
  },
  "language_info": {
   "codemirror_mode": {
    "name": "ipython",
    "version": 3
   },
   "file_extension": ".py",
   "mimetype": "text/x-python",
   "name": "python",
   "nbconvert_exporter": "python",
   "pygments_lexer": "ipython3",
   "version": "3.10.13"
  }
 },
 "nbformat": 4,
 "nbformat_minor": 2
}
